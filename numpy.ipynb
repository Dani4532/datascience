{
 "cells": [
  {
   "cell_type": "markdown",
   "metadata": {
    "collapsed": true,
    "pycharm": {
     "name": "#%% md\n"
    }
   },
   "source": [
    "# NumPy\n",
    "\n",
    "* verwaltet effizient Arrays/Matrizen/Tensoren in `ndarray`\n",
    "* ![Tensor](https://res.cloudinary.com/practicaldev/image/fetch/s--oTgfo1EL--/c_limit%2Cf_auto%2Cfl_progressive%2Cq_auto%2Cw_880/https://raw.githubusercontent.com/adhiraiyan/DeepLearningWithTF2.0/master/notebooks/figures/fig0201a.png)\n",
    "* im Hintergrund hochperformantes C\n",
    "* Elemente eines Arrays sind vom selben Datentyp\n",
    "* Standardalias `np`\n",
    "* Operationen werden meist auf ganze Arrays angewandt (*Broadcasting*)\n",
    "\n",
    "### Vokabel\n",
    "\n",
    "* `axis`/`axes` - Dimension\n",
    "* `dtype` - Datentyp\n",
    "* `shape` - Tupel, das die Form des Arrays beschreibt"
   ]
  },
  {
   "cell_type": "code",
   "execution_count": 2,
   "metadata": {
    "pycharm": {
     "name": "#%%\n"
    }
   },
   "outputs": [],
   "source": [
    "import numpy as np"
   ]
  },
  {
   "cell_type": "markdown",
   "metadata": {
    "pycharm": {
     "name": "#%% md\n"
    }
   },
   "source": [
    "### Erzeugung"
   ]
  },
  {
   "cell_type": "code",
   "execution_count": 2,
   "metadata": {
    "pycharm": {
     "name": "#%%\n"
    }
   },
   "outputs": [
    {
     "name": "stdout",
     "output_type": "stream",
     "text": [
      "[42.      3.1415] (2,) float64 <class 'numpy.ndarray'>\n"
     ]
    }
   ],
   "source": [
    "array = np.array([42, 3.1415])\n",
    "print(array, array.shape, array.dtype, type(array))"
   ]
  },
  {
   "cell_type": "code",
   "execution_count": 9,
   "metadata": {
    "pycharm": {
     "name": "#%%\n"
    }
   },
   "outputs": [
    {
     "name": "stdout",
     "output_type": "stream",
     "text": [
      "[ 0  2  4  6  8 10 12 14 16 18 20 22]\n",
      "[[ 0  2  4  6  8 10]\n",
      " [12 14 16 18 20 22]] (2, 6)\n"
     ]
    },
    {
     "data": {
      "text/plain": [
       "array([[ 0,  2],\n",
       "       [ 4,  6],\n",
       "       [ 8, 10],\n",
       "       [12, 14],\n",
       "       [16, 18],\n",
       "       [20, 22]])"
      ]
     },
     "execution_count": 9,
     "metadata": {},
     "output_type": "execute_result"
    }
   ],
   "source": [
    "matrix = np.arange(0, 24, 2)\n",
    "print(matrix)\n",
    "matrix = matrix.reshape(2, 6)\n",
    "print(matrix, matrix.shape)\n",
    "matrix.reshape(6, -1) # -1 => was sich ausgeht"
   ]
  },
  {
   "cell_type": "code",
   "execution_count": 16,
   "metadata": {
    "pycharm": {
     "name": "#%%\n"
    }
   },
   "outputs": [
    {
     "name": "stdout",
     "output_type": "stream",
     "text": [
      "[0.         0.15707963 0.31415927 0.4712389  0.62831853 0.78539816\n",
      " 0.9424778  1.09955743 1.25663706 1.41371669 1.57079633 1.72787596\n",
      " 1.88495559 2.04203522 2.19911486 2.35619449 2.51327412 2.67035376\n",
      " 2.82743339 2.98451302 3.14159265] (21,)\n",
      "[0.00000000e+00 1.56434465e-01 3.09016994e-01 4.53990500e-01\n",
      " 5.87785252e-01 7.07106781e-01 8.09016994e-01 8.91006524e-01\n",
      " 9.51056516e-01 9.87688341e-01 1.00000000e+00 9.87688341e-01\n",
      " 9.51056516e-01 8.91006524e-01 8.09016994e-01 7.07106781e-01\n",
      " 5.87785252e-01 4.53990500e-01 3.09016994e-01 1.56434465e-01\n",
      " 1.22464680e-16]\n"
     ]
    }
   ],
   "source": [
    "x = np.linspace(0, np.pi, 20) # für floats besser geeignet als arange\n",
    "print(x, x.shape)\n",
    "sin = np.sin(x)\n",
    "print(sin)"
   ]
  },
  {
   "cell_type": "markdown",
   "metadata": {
    "pycharm": {
     "name": "#%% md\n"
    }
   },
   "source": [
    "### Ausgabe\n",
    "\n",
    "* Arrays als []\n",
    "* Matrizen als \n",
    "  ```python\n",
    "  [[\n",
    "   []\n",
    "  ]]\n",
    "  ```\n",
    "* Tensoren mit leerzeilen zwischen slices"
   ]
  },
  {
   "cell_type": "code",
   "execution_count": 27,
   "metadata": {
    "pycharm": {
     "name": "#%%\n"
    }
   },
   "outputs": [
    {
     "name": "stdout",
     "output_type": "stream",
     "text": [
      "[ 0  1  2  3  4  5  6  7  8  9 10 11 12 13 14 15 16 17 18 19 20 21 22 23]\n"
     ]
    }
   ],
   "source": [
    "array = np.arange(24)\n",
    "print(array)"
   ]
  },
  {
   "cell_type": "code",
   "execution_count": 26,
   "metadata": {
    "pycharm": {
     "name": "#%%\n"
    }
   },
   "outputs": [
    {
     "name": "stdout",
     "output_type": "stream",
     "text": [
      "[[ 0  1  2  3  4  5]\n",
      " [ 6  7  8  9 10 11]\n",
      " [12 13 14 15 16 17]\n",
      " [18 19 20 21 22 23]]\n"
     ]
    }
   ],
   "source": [
    "matrix = array.reshape(4, 6)\n",
    "print(matrix)"
   ]
  },
  {
   "cell_type": "code",
   "execution_count": 28,
   "metadata": {
    "pycharm": {
     "name": "#%%\n"
    }
   },
   "outputs": [
    {
     "name": "stdout",
     "output_type": "stream",
     "text": [
      "[[[ 0  1  2  3]\n",
      "  [ 4  5  6  7]]\n",
      "\n",
      " [[ 8  9 10 11]\n",
      "  [12 13 14 15]]\n",
      "\n",
      " [[16 17 18 19]\n",
      "  [20 21 22 23]]]\n"
     ]
    }
   ],
   "source": [
    "tensor = matrix.reshape(3, 2, 4)\n",
    "print(tensor)"
   ]
  },
  {
   "cell_type": "markdown",
   "metadata": {
    "pycharm": {
     "name": "#%% md\n"
    }
   },
   "source": [
    "### Slicing\n",
    "\n",
    "* wie bei Listen\n",
    "* bei mehreren Dimensionen Indices als Tupel\n",
    "* Index kann selbst Liste sein"
   ]
  },
  {
   "cell_type": "code",
   "execution_count": 10,
   "metadata": {
    "pycharm": {
     "name": "#%%\n"
    }
   },
   "outputs": [
    {
     "name": "stdout",
     "output_type": "stream",
     "text": [
      "[[   1    2    4    8]\n",
      " [  16   32   64  128]\n",
      " [ 256  512 1024 2048]]\n"
     ]
    }
   ],
   "source": [
    "matrix = np.arange(0,12).reshape(3,4)\n",
    "matrix = 2**matrix\n",
    "print(matrix)"
   ]
  },
  {
   "cell_type": "code",
   "execution_count": 16,
   "metadata": {
    "pycharm": {
     "name": "#%%\n"
    }
   },
   "outputs": [
    {
     "name": "stdout",
     "output_type": "stream",
     "text": [
      "[ 32 512]\n"
     ]
    }
   ],
   "source": [
    "#print(matrix[1, 1])\n",
    "#print(matrix[1, :])\n",
    "#print(matrix[1])\n",
    "#print(matrix[:, 1])\n",
    "#print(matrix[::2, 0:2])\n",
    "print(matrix[[1, 2], 1])"
   ]
  },
  {
   "cell_type": "markdown",
   "metadata": {
    "pycharm": {
     "name": "#%% md\n"
    }
   },
   "source": [
    "### Conditional selection/Boolean indexing\n",
    "\n",
    "* effektive filter-Methode"
   ]
  },
  {
   "cell_type": "code",
   "execution_count": 33,
   "metadata": {
    "pycharm": {
     "name": "#%%\n"
    },
    "scrolled": true
   },
   "outputs": [
    {
     "name": "stdout",
     "output_type": "stream",
     "text": [
      "[[ 0  1  2  3]\n",
      " [ 4  5  6  7]\n",
      " [ 8  9 10 11]]\n",
      "[[ True False  True False]\n",
      " [ True False  True False]\n",
      " [ True False  True False]]\n",
      "[ 0  2  4  6  8 10]\n"
     ]
    }
   ],
   "source": [
    "matrix = np.arange(0,12).reshape(3, 4)\n",
    "print(matrix)\n",
    "is_even = matrix % 2 == 0\n",
    "print(is_even)\n",
    "even_elements = matrix[is_even]\n",
    "print(even_elements)"
   ]
  },
  {
   "cell_type": "code",
   "execution_count": 38,
   "metadata": {
    "pycharm": {
     "name": "#%%\n"
    },
    "scrolled": true
   },
   "outputs": [
    {
     "data": {
      "text/plain": [
       "array([ 8,  9, 10, 11])"
      ]
     },
     "execution_count": 38,
     "metadata": {},
     "output_type": "execute_result"
    }
   ],
   "source": [
    "matrix[matrix > 7]"
   ]
  },
  {
   "cell_type": "code",
   "execution_count": 29,
   "metadata": {},
   "outputs": [
    {
     "data": {
      "text/plain": [
       "array([ 7, 19, 15,  3, 19,  4,  1,  3, 29, 16])"
      ]
     },
     "execution_count": 29,
     "metadata": {},
     "output_type": "execute_result"
    }
   ],
   "source": [
    "a = np.random.randint(30, size=10)\n",
    "a"
   ]
  },
  {
   "cell_type": "code",
   "execution_count": 35,
   "metadata": {},
   "outputs": [
    {
     "data": {
      "text/plain": [
       "8"
      ]
     },
     "execution_count": 35,
     "metadata": {},
     "output_type": "execute_result"
    }
   ],
   "source": [
    "a.argmax()"
   ]
  }
 ],
 "metadata": {
  "kernelspec": {
   "display_name": "Python 3",
   "language": "python",
   "name": "python3"
  },
  "language_info": {
   "codemirror_mode": {
    "name": "ipython",
    "version": 3
   },
   "file_extension": ".py",
   "mimetype": "text/x-python",
   "name": "python",
   "nbconvert_exporter": "python",
   "pygments_lexer": "ipython3",
   "version": "3.8.8"
  }
 },
 "nbformat": 4,
 "nbformat_minor": 1
}
