{
 "cells": [
  {
   "cell_type": "markdown",
   "metadata": {
    "collapsed": true,
    "pycharm": {
     "name": "#%% md\n"
    }
   },
   "source": [
    "# Pandas\n",
    "\n",
    "* Standardalias `pd`\n",
    "* erlaubt Datenzugriff auf verschiedenste Arten\n",
    "* neue Datentypen:\n",
    "    * `Series` - 1D array mit Index (Excel-Spalte)\n",
    "    * `DataFrame` - 2D array mit Index (Excel-Spreadsheet)"
   ]
  },
  {
   "cell_type": "code",
   "execution_count": 1,
   "metadata": {
    "pycharm": {
     "name": "#%%\n"
    }
   },
   "outputs": [],
   "source": [
    "import numpy as np\n",
    "import pandas as pd\n",
    "import seaborn as sns\n",
    "import matplotlib.pylab as plt"
   ]
  },
  {
   "cell_type": "code",
   "execution_count": 2,
   "metadata": {
    "pycharm": {
     "name": "#%%\n"
    }
   },
   "outputs": [
    {
     "name": "stdout",
     "output_type": "stream",
     "text": [
      "a    1\n",
      "b    2\n",
      "c    3\n",
      "d    4\n",
      "dtype: int64\n",
      "1\n"
     ]
    }
   ],
   "source": [
    "series = pd.Series(data=[1,2,3,4], index=['a', 'b', 'c', 'd'])\n",
    "print(series, series['a'], sep='\\n')"
   ]
  },
  {
   "cell_type": "code",
   "execution_count": 10,
   "metadata": {
    "pycharm": {
     "name": "#%%\n"
    }
   },
   "outputs": [
    {
     "data": {
      "text/html": [
       "<div>\n",
       "<style scoped>\n",
       "    .dataframe tbody tr th:only-of-type {\n",
       "        vertical-align: middle;\n",
       "    }\n",
       "\n",
       "    .dataframe tbody tr th {\n",
       "        vertical-align: top;\n",
       "    }\n",
       "\n",
       "    .dataframe thead th {\n",
       "        text-align: right;\n",
       "    }\n",
       "</style>\n",
       "<table border=\"1\" class=\"dataframe\">\n",
       "  <thead>\n",
       "    <tr style=\"text-align: right;\">\n",
       "      <th></th>\n",
       "      <th>Room</th>\n",
       "      <th>KV</th>\n",
       "      <th>Size</th>\n",
       "    </tr>\n",
       "  </thead>\n",
       "  <tbody>\n",
       "    <tr>\n",
       "      <th>4AHIF</th>\n",
       "      <td>N312</td>\n",
       "      <td>SCRE</td>\n",
       "      <td>23</td>\n",
       "    </tr>\n",
       "    <tr>\n",
       "      <th>4BHIF</th>\n",
       "      <td>N313</td>\n",
       "      <td>WISS</td>\n",
       "      <td>22</td>\n",
       "    </tr>\n",
       "    <tr>\n",
       "      <th>5AHIF</th>\n",
       "      <td>N304</td>\n",
       "      <td>NEUL</td>\n",
       "      <td>19</td>\n",
       "    </tr>\n",
       "    <tr>\n",
       "      <th>5BHIF</th>\n",
       "      <td>N317</td>\n",
       "      <td>BUCH</td>\n",
       "      <td>25</td>\n",
       "    </tr>\n",
       "  </tbody>\n",
       "</table>\n",
       "</div>"
      ],
      "text/plain": [
       "       Room    KV  Size\n",
       "4AHIF  N312  SCRE    23\n",
       "4BHIF  N313  WISS    22\n",
       "5AHIF  N304  NEUL    19\n",
       "5BHIF  N317  BUCH    25"
      ]
     },
     "execution_count": 10,
     "metadata": {},
     "output_type": "execute_result"
    }
   ],
   "source": [
    "htl_if = {'Room': ['N312', 'N313', 'N304', 'N317'],\n",
    "          'KV': ['SCRE', 'WISS', 'NEUL', 'BUCH'],\n",
    "          'Size': [23, 22, 19, 25]}\n",
    "dataframe = pd.DataFrame(data=htl_if, index=['4AHIF', '4BHIF', '5AHIF', '5BHIF'])\n",
    "dataframe"
   ]
  },
  {
   "cell_type": "markdown",
   "metadata": {
    "pycharm": {
     "name": "#%% md\n"
    }
   },
   "source": [
    "### Einlesen\n",
    "\n",
    "* über die zahlreichen `readXXX`-Methoden\n",
    "* Viele Optionen, wie Beispielsweise\n",
    "    * Delimiter\n",
    "    * Kommaformat\n",
    "    * `\"\"/''` Escaping"
   ]
  },
  {
   "cell_type": "code",
   "execution_count": 3,
   "metadata": {
    "pycharm": {
     "name": "#%%\n"
    }
   },
   "outputs": [
    {
     "name": "stdout",
     "output_type": "stream",
     "text": [
      "<class 'pandas.core.frame.DataFrame'>\n",
      "RangeIndex: 17432 entries, 0 to 17431\n",
      "Data columns (total 122 columns):\n",
      " #    Column                                   Dtype  \n",
      "---   ------                                   -----  \n",
      " 0    iso_code                                 object \n",
      " 1    country                                  object \n",
      " 2    year                                     int64  \n",
      " 3    coal_prod_change_pct                     float64\n",
      " 4    coal_prod_change_twh                     float64\n",
      " 5    gas_prod_change_pct                      float64\n",
      " 6    gas_prod_change_twh                      float64\n",
      " 7    oil_prod_change_pct                      float64\n",
      " 8    oil_prod_change_twh                      float64\n",
      " 9    energy_cons_change_pct                   float64\n",
      " 10   energy_cons_change_twh                   float64\n",
      " 11   biofuel_share_elec                       float64\n",
      " 12   biofuel_elec_per_capita                  float64\n",
      " 13   biofuel_cons_change_pct                  float64\n",
      " 14   biofuel_share_energy                     float64\n",
      " 15   biofuel_cons_change_twh                  float64\n",
      " 16   biofuel_consumption                      float64\n",
      " 17   biofuel_cons_per_capita                  float64\n",
      " 18   carbon_intensity_elec                    float64\n",
      " 19   coal_share_elec                          float64\n",
      " 20   coal_cons_change_pct                     float64\n",
      " 21   coal_share_energy                        float64\n",
      " 22   coal_cons_change_twh                     float64\n",
      " 23   coal_consumption                         float64\n",
      " 24   coal_elec_per_capita                     float64\n",
      " 25   coal_cons_per_capita                     float64\n",
      " 26   coal_production                          float64\n",
      " 27   coal_prod_per_capita                     float64\n",
      " 28   electricity_generation                   float64\n",
      " 29   biofuel_electricity                      float64\n",
      " 30   coal_electricity                         float64\n",
      " 31   fossil_electricity                       float64\n",
      " 32   gas_electricity                          float64\n",
      " 33   hydro_electricity                        float64\n",
      " 34   nuclear_electricity                      float64\n",
      " 35   oil_electricity                          float64\n",
      " 36   other_renewable_electricity              float64\n",
      " 37   other_renewable_exc_biofuel_electricity  float64\n",
      " 38   renewables_electricity                   float64\n",
      " 39   solar_electricity                        float64\n",
      " 40   wind_electricity                         float64\n",
      " 41   energy_per_gdp                           float64\n",
      " 42   energy_per_capita                        float64\n",
      " 43   fossil_cons_change_pct                   float64\n",
      " 44   fossil_share_energy                      float64\n",
      " 45   fossil_cons_change_twh                   float64\n",
      " 46   fossil_fuel_consumption                  float64\n",
      " 47   fossil_energy_per_capita                 float64\n",
      " 48   fossil_cons_per_capita                   float64\n",
      " 49   fossil_share_elec                        float64\n",
      " 50   gas_share_elec                           float64\n",
      " 51   gas_cons_change_pct                      float64\n",
      " 52   gas_share_energy                         float64\n",
      " 53   gas_cons_change_twh                      float64\n",
      " 54   gas_consumption                          float64\n",
      " 55   gas_elec_per_capita                      float64\n",
      " 56   gas_energy_per_capita                    float64\n",
      " 57   gas_production                           float64\n",
      " 58   gas_prod_per_capita                      float64\n",
      " 59   hydro_share_elec                         float64\n",
      " 60   hydro_cons_change_pct                    float64\n",
      " 61   hydro_share_energy                       float64\n",
      " 62   hydro_cons_change_twh                    float64\n",
      " 63   hydro_consumption                        float64\n",
      " 64   hydro_elec_per_capita                    float64\n",
      " 65   hydro_energy_per_capita                  float64\n",
      " 66   low_carbon_share_elec                    float64\n",
      " 67   low_carbon_electricity                   float64\n",
      " 68   low_carbon_elec_per_capita               float64\n",
      " 69   low_carbon_cons_change_pct               float64\n",
      " 70   low_carbon_share_energy                  float64\n",
      " 71   low_carbon_cons_change_twh               float64\n",
      " 72   low_carbon_consumption                   float64\n",
      " 73   low_carbon_energy_per_capita             float64\n",
      " 74   nuclear_share_elec                       float64\n",
      " 75   nuclear_cons_change_pct                  float64\n",
      " 76   nuclear_share_energy                     float64\n",
      " 77   nuclear_cons_change_twh                  float64\n",
      " 78   nuclear_consumption                      float64\n",
      " 79   nuclear_elec_per_capita                  float64\n",
      " 80   nuclear_energy_per_capita                float64\n",
      " 81   oil_share_elec                           float64\n",
      " 82   oil_cons_change_pct                      float64\n",
      " 83   oil_share_energy                         float64\n",
      " 84   oil_cons_change_twh                      float64\n",
      " 85   oil_consumption                          float64\n",
      " 86   oil_elec_per_capita                      float64\n",
      " 87   oil_energy_per_capita                    float64\n",
      " 88   oil_production                           float64\n",
      " 89   oil_prod_per_capita                      float64\n",
      " 90   other_renewables_elec_per_capita         float64\n",
      " 91   other_renewables_share_elec              float64\n",
      " 92   other_renewables_cons_change_pct         float64\n",
      " 93   other_renewables_share_energy            float64\n",
      " 94   other_renewables_cons_change_twh         float64\n",
      " 95   other_renewable_consumption              float64\n",
      " 96   other_renewables_energy_per_capita       float64\n",
      " 97   per_capita_electricity                   float64\n",
      " 98   population                               float64\n",
      " 99   primary_energy_consumption               float64\n",
      " 100  renewables_elec_per_capita               float64\n",
      " 101  renewables_share_elec                    float64\n",
      " 102  renewables_cons_change_pct               float64\n",
      " 103  renewables_share_energy                  float64\n",
      " 104  renewables_cons_change_twh               float64\n",
      " 105  renewables_consumption                   float64\n",
      " 106  renewables_energy_per_capita             float64\n",
      " 107  solar_share_elec                         float64\n",
      " 108  solar_cons_change_pct                    float64\n",
      " 109  solar_share_energy                       float64\n",
      " 110  solar_cons_change_twh                    float64\n",
      " 111  solar_consumption                        float64\n",
      " 112  solar_elec_per_capita                    float64\n",
      " 113  solar_energy_per_capita                  float64\n",
      " 114  gdp                                      float64\n",
      " 115  wind_share_elec                          float64\n",
      " 116  wind_cons_change_pct                     float64\n",
      " 117  wind_share_energy                        float64\n",
      " 118  wind_cons_change_twh                     float64\n",
      " 119  wind_consumption                         float64\n",
      " 120  wind_elec_per_capita                     float64\n",
      " 121  wind_energy_per_capita                   float64\n",
      "dtypes: float64(119), int64(1), object(2)\n",
      "memory usage: 16.2+ MB\n"
     ]
    }
   ],
   "source": [
    "energy = pd.read_csv('./data/owid-energy-data.csv')\n",
    "energy.info(verbose=True)"
   ]
  },
  {
   "cell_type": "markdown",
   "metadata": {
    "pycharm": {
     "name": "#%% md\n"
    }
   },
   "source": [
    "### Selection"
   ]
  },
  {
   "cell_type": "code",
   "execution_count": 7,
   "metadata": {
    "pycharm": {
     "name": "#%%\n"
    }
   },
   "outputs": [],
   "source": [
    "countries = energy.country\n",
    "isos_countries = energy['iso_code']"
   ]
  },
  {
   "cell_type": "code",
   "execution_count": 16,
   "metadata": {
    "pycharm": {
     "name": "#%%\n"
    }
   },
   "outputs": [
    {
     "data": {
      "text/html": [
       "<div>\n",
       "<style scoped>\n",
       "    .dataframe tbody tr th:only-of-type {\n",
       "        vertical-align: middle;\n",
       "    }\n",
       "\n",
       "    .dataframe tbody tr th {\n",
       "        vertical-align: top;\n",
       "    }\n",
       "\n",
       "    .dataframe thead th {\n",
       "        text-align: right;\n",
       "    }\n",
       "</style>\n",
       "<table border=\"1\" class=\"dataframe\">\n",
       "  <thead>\n",
       "    <tr style=\"text-align: right;\">\n",
       "      <th></th>\n",
       "      <th>iso_code</th>\n",
       "      <th>country</th>\n",
       "      <th>year</th>\n",
       "      <th>coal_prod_change_pct</th>\n",
       "      <th>coal_prod_change_twh</th>\n",
       "      <th>gas_prod_change_pct</th>\n",
       "      <th>gas_prod_change_twh</th>\n",
       "      <th>oil_prod_change_pct</th>\n",
       "      <th>oil_prod_change_twh</th>\n",
       "      <th>energy_cons_change_pct</th>\n",
       "      <th>...</th>\n",
       "      <th>solar_elec_per_capita</th>\n",
       "      <th>solar_energy_per_capita</th>\n",
       "      <th>gdp</th>\n",
       "      <th>wind_share_elec</th>\n",
       "      <th>wind_cons_change_pct</th>\n",
       "      <th>wind_share_energy</th>\n",
       "      <th>wind_cons_change_twh</th>\n",
       "      <th>wind_consumption</th>\n",
       "      <th>wind_elec_per_capita</th>\n",
       "      <th>wind_energy_per_capita</th>\n",
       "    </tr>\n",
       "  </thead>\n",
       "  <tbody>\n",
       "    <tr>\n",
       "      <th>1039</th>\n",
       "      <td>AUT</td>\n",
       "      <td>Austria</td>\n",
       "      <td>1900</td>\n",
       "      <td>NaN</td>\n",
       "      <td>NaN</td>\n",
       "      <td>NaN</td>\n",
       "      <td>NaN</td>\n",
       "      <td>NaN</td>\n",
       "      <td>NaN</td>\n",
       "      <td>NaN</td>\n",
       "      <td>...</td>\n",
       "      <td>NaN</td>\n",
       "      <td>NaN</td>\n",
       "      <td>1.864771e+10</td>\n",
       "      <td>NaN</td>\n",
       "      <td>NaN</td>\n",
       "      <td>NaN</td>\n",
       "      <td>NaN</td>\n",
       "      <td>NaN</td>\n",
       "      <td>NaN</td>\n",
       "      <td>NaN</td>\n",
       "    </tr>\n",
       "    <tr>\n",
       "      <th>1040</th>\n",
       "      <td>AUT</td>\n",
       "      <td>Austria</td>\n",
       "      <td>1901</td>\n",
       "      <td>5.607</td>\n",
       "      <td>9.674</td>\n",
       "      <td>NaN</td>\n",
       "      <td>0.0</td>\n",
       "      <td>NaN</td>\n",
       "      <td>0.000</td>\n",
       "      <td>NaN</td>\n",
       "      <td>...</td>\n",
       "      <td>NaN</td>\n",
       "      <td>NaN</td>\n",
       "      <td>1.872057e+10</td>\n",
       "      <td>NaN</td>\n",
       "      <td>NaN</td>\n",
       "      <td>NaN</td>\n",
       "      <td>NaN</td>\n",
       "      <td>NaN</td>\n",
       "      <td>NaN</td>\n",
       "      <td>NaN</td>\n",
       "    </tr>\n",
       "    <tr>\n",
       "      <th>1041</th>\n",
       "      <td>AUT</td>\n",
       "      <td>Austria</td>\n",
       "      <td>1902</td>\n",
       "      <td>-3.808</td>\n",
       "      <td>-6.937</td>\n",
       "      <td>NaN</td>\n",
       "      <td>0.0</td>\n",
       "      <td>NaN</td>\n",
       "      <td>0.012</td>\n",
       "      <td>NaN</td>\n",
       "      <td>...</td>\n",
       "      <td>NaN</td>\n",
       "      <td>NaN</td>\n",
       "      <td>1.945581e+10</td>\n",
       "      <td>NaN</td>\n",
       "      <td>NaN</td>\n",
       "      <td>NaN</td>\n",
       "      <td>NaN</td>\n",
       "      <td>NaN</td>\n",
       "      <td>NaN</td>\n",
       "      <td>NaN</td>\n",
       "    </tr>\n",
       "    <tr>\n",
       "      <th>1042</th>\n",
       "      <td>AUT</td>\n",
       "      <td>Austria</td>\n",
       "      <td>1903</td>\n",
       "      <td>2.144</td>\n",
       "      <td>3.757</td>\n",
       "      <td>NaN</td>\n",
       "      <td>0.0</td>\n",
       "      <td>0.0</td>\n",
       "      <td>0.000</td>\n",
       "      <td>NaN</td>\n",
       "      <td>...</td>\n",
       "      <td>NaN</td>\n",
       "      <td>NaN</td>\n",
       "      <td>1.963850e+10</td>\n",
       "      <td>NaN</td>\n",
       "      <td>NaN</td>\n",
       "      <td>NaN</td>\n",
       "      <td>NaN</td>\n",
       "      <td>NaN</td>\n",
       "      <td>NaN</td>\n",
       "      <td>NaN</td>\n",
       "    </tr>\n",
       "    <tr>\n",
       "      <th>1043</th>\n",
       "      <td>AUT</td>\n",
       "      <td>Austria</td>\n",
       "      <td>1904</td>\n",
       "      <td>1.317</td>\n",
       "      <td>2.357</td>\n",
       "      <td>NaN</td>\n",
       "      <td>0.0</td>\n",
       "      <td>0.0</td>\n",
       "      <td>0.000</td>\n",
       "      <td>NaN</td>\n",
       "      <td>...</td>\n",
       "      <td>NaN</td>\n",
       "      <td>NaN</td>\n",
       "      <td>1.994206e+10</td>\n",
       "      <td>NaN</td>\n",
       "      <td>NaN</td>\n",
       "      <td>NaN</td>\n",
       "      <td>NaN</td>\n",
       "      <td>NaN</td>\n",
       "      <td>NaN</td>\n",
       "      <td>NaN</td>\n",
       "    </tr>\n",
       "    <tr>\n",
       "      <th>...</th>\n",
       "      <td>...</td>\n",
       "      <td>...</td>\n",
       "      <td>...</td>\n",
       "      <td>...</td>\n",
       "      <td>...</td>\n",
       "      <td>...</td>\n",
       "      <td>...</td>\n",
       "      <td>...</td>\n",
       "      <td>...</td>\n",
       "      <td>...</td>\n",
       "      <td>...</td>\n",
       "      <td>...</td>\n",
       "      <td>...</td>\n",
       "      <td>...</td>\n",
       "      <td>...</td>\n",
       "      <td>...</td>\n",
       "      <td>...</td>\n",
       "      <td>...</td>\n",
       "      <td>...</td>\n",
       "      <td>...</td>\n",
       "      <td>...</td>\n",
       "    </tr>\n",
       "    <tr>\n",
       "      <th>1155</th>\n",
       "      <td>AUT</td>\n",
       "      <td>Austria</td>\n",
       "      <td>2016</td>\n",
       "      <td>0.000</td>\n",
       "      <td>NaN</td>\n",
       "      <td>0.0</td>\n",
       "      <td>NaN</td>\n",
       "      <td>0.0</td>\n",
       "      <td>NaN</td>\n",
       "      <td>3.308</td>\n",
       "      <td>...</td>\n",
       "      <td>125.302</td>\n",
       "      <td>315.109</td>\n",
       "      <td>3.950000e+11</td>\n",
       "      <td>8.022</td>\n",
       "      <td>7.510</td>\n",
       "      <td>3.309</td>\n",
       "      <td>0.920</td>\n",
       "      <td>13.165</td>\n",
       "      <td>598.472</td>\n",
       "      <td>1505.035</td>\n",
       "    </tr>\n",
       "    <tr>\n",
       "      <th>1156</th>\n",
       "      <td>AUT</td>\n",
       "      <td>Austria</td>\n",
       "      <td>2017</td>\n",
       "      <td>0.000</td>\n",
       "      <td>NaN</td>\n",
       "      <td>0.0</td>\n",
       "      <td>NaN</td>\n",
       "      <td>0.0</td>\n",
       "      <td>NaN</td>\n",
       "      <td>2.391</td>\n",
       "      <td>...</td>\n",
       "      <td>143.874</td>\n",
       "      <td>359.686</td>\n",
       "      <td>NaN</td>\n",
       "      <td>9.746</td>\n",
       "      <td>24.796</td>\n",
       "      <td>4.033</td>\n",
       "      <td>3.264</td>\n",
       "      <td>16.429</td>\n",
       "      <td>745.069</td>\n",
       "      <td>1862.675</td>\n",
       "    </tr>\n",
       "    <tr>\n",
       "      <th>1157</th>\n",
       "      <td>AUT</td>\n",
       "      <td>Austria</td>\n",
       "      <td>2018</td>\n",
       "      <td>0.000</td>\n",
       "      <td>NaN</td>\n",
       "      <td>0.0</td>\n",
       "      <td>NaN</td>\n",
       "      <td>0.0</td>\n",
       "      <td>NaN</td>\n",
       "      <td>-1.984</td>\n",
       "      <td>...</td>\n",
       "      <td>161.696</td>\n",
       "      <td>401.877</td>\n",
       "      <td>NaN</td>\n",
       "      <td>9.277</td>\n",
       "      <td>-8.770</td>\n",
       "      <td>3.754</td>\n",
       "      <td>-1.441</td>\n",
       "      <td>14.988</td>\n",
       "      <td>678.262</td>\n",
       "      <td>1685.741</td>\n",
       "    </tr>\n",
       "    <tr>\n",
       "      <th>1158</th>\n",
       "      <td>AUT</td>\n",
       "      <td>Austria</td>\n",
       "      <td>2019</td>\n",
       "      <td>0.000</td>\n",
       "      <td>NaN</td>\n",
       "      <td>0.0</td>\n",
       "      <td>NaN</td>\n",
       "      <td>0.0</td>\n",
       "      <td>NaN</td>\n",
       "      <td>4.350</td>\n",
       "      <td>...</td>\n",
       "      <td>151.056</td>\n",
       "      <td>373.735</td>\n",
       "      <td>NaN</td>\n",
       "      <td>10.611</td>\n",
       "      <td>22.845</td>\n",
       "      <td>4.419</td>\n",
       "      <td>3.424</td>\n",
       "      <td>18.412</td>\n",
       "      <td>848.714</td>\n",
       "      <td>2056.042</td>\n",
       "    </tr>\n",
       "    <tr>\n",
       "      <th>1159</th>\n",
       "      <td>AUT</td>\n",
       "      <td>Austria</td>\n",
       "      <td>2020</td>\n",
       "      <td>NaN</td>\n",
       "      <td>NaN</td>\n",
       "      <td>NaN</td>\n",
       "      <td>NaN</td>\n",
       "      <td>NaN</td>\n",
       "      <td>NaN</td>\n",
       "      <td>NaN</td>\n",
       "      <td>...</td>\n",
       "      <td>140.455</td>\n",
       "      <td>NaN</td>\n",
       "      <td>NaN</td>\n",
       "      <td>9.883</td>\n",
       "      <td>NaN</td>\n",
       "      <td>NaN</td>\n",
       "      <td>NaN</td>\n",
       "      <td>NaN</td>\n",
       "      <td>762.588</td>\n",
       "      <td>NaN</td>\n",
       "    </tr>\n",
       "  </tbody>\n",
       "</table>\n",
       "<p>121 rows × 122 columns</p>\n",
       "</div>"
      ],
      "text/plain": [
       "     iso_code  country  year  coal_prod_change_pct  coal_prod_change_twh  \\\n",
       "1039      AUT  Austria  1900                   NaN                   NaN   \n",
       "1040      AUT  Austria  1901                 5.607                 9.674   \n",
       "1041      AUT  Austria  1902                -3.808                -6.937   \n",
       "1042      AUT  Austria  1903                 2.144                 3.757   \n",
       "1043      AUT  Austria  1904                 1.317                 2.357   \n",
       "...       ...      ...   ...                   ...                   ...   \n",
       "1155      AUT  Austria  2016                 0.000                   NaN   \n",
       "1156      AUT  Austria  2017                 0.000                   NaN   \n",
       "1157      AUT  Austria  2018                 0.000                   NaN   \n",
       "1158      AUT  Austria  2019                 0.000                   NaN   \n",
       "1159      AUT  Austria  2020                   NaN                   NaN   \n",
       "\n",
       "      gas_prod_change_pct  gas_prod_change_twh  oil_prod_change_pct  \\\n",
       "1039                  NaN                  NaN                  NaN   \n",
       "1040                  NaN                  0.0                  NaN   \n",
       "1041                  NaN                  0.0                  NaN   \n",
       "1042                  NaN                  0.0                  0.0   \n",
       "1043                  NaN                  0.0                  0.0   \n",
       "...                   ...                  ...                  ...   \n",
       "1155                  0.0                  NaN                  0.0   \n",
       "1156                  0.0                  NaN                  0.0   \n",
       "1157                  0.0                  NaN                  0.0   \n",
       "1158                  0.0                  NaN                  0.0   \n",
       "1159                  NaN                  NaN                  NaN   \n",
       "\n",
       "      oil_prod_change_twh  energy_cons_change_pct  ...  solar_elec_per_capita  \\\n",
       "1039                  NaN                     NaN  ...                    NaN   \n",
       "1040                0.000                     NaN  ...                    NaN   \n",
       "1041                0.012                     NaN  ...                    NaN   \n",
       "1042                0.000                     NaN  ...                    NaN   \n",
       "1043                0.000                     NaN  ...                    NaN   \n",
       "...                   ...                     ...  ...                    ...   \n",
       "1155                  NaN                   3.308  ...                125.302   \n",
       "1156                  NaN                   2.391  ...                143.874   \n",
       "1157                  NaN                  -1.984  ...                161.696   \n",
       "1158                  NaN                   4.350  ...                151.056   \n",
       "1159                  NaN                     NaN  ...                140.455   \n",
       "\n",
       "      solar_energy_per_capita           gdp  wind_share_elec  \\\n",
       "1039                      NaN  1.864771e+10              NaN   \n",
       "1040                      NaN  1.872057e+10              NaN   \n",
       "1041                      NaN  1.945581e+10              NaN   \n",
       "1042                      NaN  1.963850e+10              NaN   \n",
       "1043                      NaN  1.994206e+10              NaN   \n",
       "...                       ...           ...              ...   \n",
       "1155                  315.109  3.950000e+11            8.022   \n",
       "1156                  359.686           NaN            9.746   \n",
       "1157                  401.877           NaN            9.277   \n",
       "1158                  373.735           NaN           10.611   \n",
       "1159                      NaN           NaN            9.883   \n",
       "\n",
       "      wind_cons_change_pct  wind_share_energy  wind_cons_change_twh  \\\n",
       "1039                   NaN                NaN                   NaN   \n",
       "1040                   NaN                NaN                   NaN   \n",
       "1041                   NaN                NaN                   NaN   \n",
       "1042                   NaN                NaN                   NaN   \n",
       "1043                   NaN                NaN                   NaN   \n",
       "...                    ...                ...                   ...   \n",
       "1155                 7.510              3.309                 0.920   \n",
       "1156                24.796              4.033                 3.264   \n",
       "1157                -8.770              3.754                -1.441   \n",
       "1158                22.845              4.419                 3.424   \n",
       "1159                   NaN                NaN                   NaN   \n",
       "\n",
       "      wind_consumption  wind_elec_per_capita  wind_energy_per_capita  \n",
       "1039               NaN                   NaN                     NaN  \n",
       "1040               NaN                   NaN                     NaN  \n",
       "1041               NaN                   NaN                     NaN  \n",
       "1042               NaN                   NaN                     NaN  \n",
       "1043               NaN                   NaN                     NaN  \n",
       "...                ...                   ...                     ...  \n",
       "1155            13.165               598.472                1505.035  \n",
       "1156            16.429               745.069                1862.675  \n",
       "1157            14.988               678.262                1685.741  \n",
       "1158            18.412               848.714                2056.042  \n",
       "1159               NaN               762.588                     NaN  \n",
       "\n",
       "[121 rows x 122 columns]"
      ]
     },
     "execution_count": 16,
     "metadata": {},
     "output_type": "execute_result"
    }
   ],
   "source": [
    "austria = energy[energy['iso_code'] == 'AUT']\n",
    "germany = energy.query('iso_code == \"DEU\"')\n",
    "austria"
   ]
  },
  {
   "cell_type": "markdown",
   "metadata": {
    "pycharm": {
     "name": "#%% md\n"
    }
   },
   "source": [
    "* `loc` operiert auf Zeilen/Spaltennummern\n",
    "* `iloc` operiert auf Indizespositionen"
   ]
  },
  {
   "cell_type": "code",
   "execution_count": 7,
   "metadata": {
    "pycharm": {
     "name": "#%%\n"
    }
   },
   "outputs": [
    {
     "data": {
      "text/html": [
       "<div>\n",
       "<style scoped>\n",
       "    .dataframe tbody tr th:only-of-type {\n",
       "        vertical-align: middle;\n",
       "    }\n",
       "\n",
       "    .dataframe tbody tr th {\n",
       "        vertical-align: top;\n",
       "    }\n",
       "\n",
       "    .dataframe thead th {\n",
       "        text-align: right;\n",
       "    }\n",
       "</style>\n",
       "<table border=\"1\" class=\"dataframe\">\n",
       "  <thead>\n",
       "    <tr style=\"text-align: right;\">\n",
       "      <th></th>\n",
       "      <th>iso_code</th>\n",
       "      <th>country</th>\n",
       "      <th>year</th>\n",
       "    </tr>\n",
       "  </thead>\n",
       "  <tbody>\n",
       "    <tr>\n",
       "      <th>17429</th>\n",
       "      <td>ZWE</td>\n",
       "      <td>Zimbabwe</td>\n",
       "      <td>2017</td>\n",
       "    </tr>\n",
       "    <tr>\n",
       "      <th>17430</th>\n",
       "      <td>ZWE</td>\n",
       "      <td>Zimbabwe</td>\n",
       "      <td>2018</td>\n",
       "    </tr>\n",
       "    <tr>\n",
       "      <th>17431</th>\n",
       "      <td>ZWE</td>\n",
       "      <td>Zimbabwe</td>\n",
       "      <td>2019</td>\n",
       "    </tr>\n",
       "  </tbody>\n",
       "</table>\n",
       "</div>"
      ],
      "text/plain": [
       "      iso_code   country  year\n",
       "17429      ZWE  Zimbabwe  2017\n",
       "17430      ZWE  Zimbabwe  2018\n",
       "17431      ZWE  Zimbabwe  2019"
      ]
     },
     "execution_count": 7,
     "metadata": {},
     "output_type": "execute_result"
    }
   ],
   "source": [
    "head = energy.iloc[-3:, :3]\n",
    "head"
   ]
  },
  {
   "cell_type": "code",
   "execution_count": 8,
   "metadata": {
    "pycharm": {
     "name": "#%%\n"
    }
   },
   "outputs": [
    {
     "data": {
      "text/html": [
       "<div>\n",
       "<style scoped>\n",
       "    .dataframe tbody tr th:only-of-type {\n",
       "        vertical-align: middle;\n",
       "    }\n",
       "\n",
       "    .dataframe tbody tr th {\n",
       "        vertical-align: top;\n",
       "    }\n",
       "\n",
       "    .dataframe thead th {\n",
       "        text-align: right;\n",
       "    }\n",
       "</style>\n",
       "<table border=\"1\" class=\"dataframe\">\n",
       "  <thead>\n",
       "    <tr style=\"text-align: right;\">\n",
       "      <th></th>\n",
       "      <th>iso_code</th>\n",
       "      <th>population</th>\n",
       "    </tr>\n",
       "  </thead>\n",
       "  <tbody>\n",
       "    <tr>\n",
       "      <th>0</th>\n",
       "      <td>AFG</td>\n",
       "      <td>5021241.0</td>\n",
       "    </tr>\n",
       "    <tr>\n",
       "      <th>1</th>\n",
       "      <td>AFG</td>\n",
       "      <td>5053439.0</td>\n",
       "    </tr>\n",
       "    <tr>\n",
       "      <th>2</th>\n",
       "      <td>AFG</td>\n",
       "      <td>5085403.0</td>\n",
       "    </tr>\n",
       "    <tr>\n",
       "      <th>3</th>\n",
       "      <td>AFG</td>\n",
       "      <td>5118005.0</td>\n",
       "    </tr>\n",
       "  </tbody>\n",
       "</table>\n",
       "</div>"
      ],
      "text/plain": [
       "  iso_code  population\n",
       "0      AFG   5021241.0\n",
       "1      AFG   5053439.0\n",
       "2      AFG   5085403.0\n",
       "3      AFG   5118005.0"
      ]
     },
     "execution_count": 8,
     "metadata": {},
     "output_type": "execute_result"
    }
   ],
   "source": [
    "head_country_and_pop = energy.loc[:3, ['iso_code', 'population']]\n",
    "head_country_and_pop"
   ]
  },
  {
   "cell_type": "code",
   "execution_count": 9,
   "metadata": {
    "pycharm": {
     "name": "#%%\n"
    }
   },
   "outputs": [
    {
     "name": "stdout",
     "output_type": "stream",
     "text": [
      "<class 'pandas.core.frame.DataFrame'>\n",
      "Int64Index: 121 entries, 1039 to 1159\n",
      "Data columns (total 122 columns):\n",
      " #    Column                                   Non-Null Count  Dtype  \n",
      "---   ------                                   --------------  -----  \n",
      " 0    iso_code                                 121 non-null    object \n",
      " 1    country                                  121 non-null    object \n",
      " 2    year                                     121 non-null    int64  \n",
      " 3    coal_prod_change_pct                     119 non-null    float64\n",
      " 4    coal_prod_change_twh                     64 non-null     float64\n",
      " 5    gas_prod_change_pct                      73 non-null     float64\n",
      " 6    gas_prod_change_twh                      64 non-null     float64\n",
      " 7    oil_prod_change_pct                      100 non-null    float64\n",
      " 8    oil_prod_change_twh                      64 non-null     float64\n",
      " 9    energy_cons_change_pct                   54 non-null     float64\n",
      " 10   energy_cons_change_twh                   54 non-null     float64\n",
      " 11   biofuel_share_elec                       21 non-null     float64\n",
      " 12   biofuel_elec_per_capita                  21 non-null     float64\n",
      " 13   biofuel_cons_change_pct                  29 non-null     float64\n",
      " 14   biofuel_share_energy                     55 non-null     float64\n",
      " 15   biofuel_cons_change_twh                  54 non-null     float64\n",
      " 16   biofuel_consumption                      55 non-null     float64\n",
      " 17   biofuel_cons_per_capita                  55 non-null     float64\n",
      " 18   carbon_intensity_elec                    21 non-null     float64\n",
      " 19   coal_share_elec                          21 non-null     float64\n",
      " 20   coal_cons_change_pct                     54 non-null     float64\n",
      " 21   coal_share_energy                        55 non-null     float64\n",
      " 22   coal_cons_change_twh                     54 non-null     float64\n",
      " 23   coal_consumption                         55 non-null     float64\n",
      " 24   coal_elec_per_capita                     21 non-null     float64\n",
      " 25   coal_cons_per_capita                     55 non-null     float64\n",
      " 26   coal_production                          65 non-null     float64\n",
      " 27   coal_prod_per_capita                     65 non-null     float64\n",
      " 28   electricity_generation                   36 non-null     float64\n",
      " 29   biofuel_electricity                      21 non-null     float64\n",
      " 30   coal_electricity                         21 non-null     float64\n",
      " 31   fossil_electricity                       21 non-null     float64\n",
      " 32   gas_electricity                          21 non-null     float64\n",
      " 33   hydro_electricity                        36 non-null     float64\n",
      " 34   nuclear_electricity                      36 non-null     float64\n",
      " 35   oil_electricity                          21 non-null     float64\n",
      " 36   other_renewable_electricity              36 non-null     float64\n",
      " 37   other_renewable_exc_biofuel_electricity  21 non-null     float64\n",
      " 38   renewables_electricity                   36 non-null     float64\n",
      " 39   solar_electricity                        36 non-null     float64\n",
      " 40   wind_electricity                         36 non-null     float64\n",
      " 41   energy_per_gdp                           52 non-null     float64\n",
      " 42   energy_per_capita                        55 non-null     float64\n",
      " 43   fossil_cons_change_pct                   54 non-null     float64\n",
      " 44   fossil_share_energy                      55 non-null     float64\n",
      " 45   fossil_cons_change_twh                   54 non-null     float64\n",
      " 46   fossil_fuel_consumption                  55 non-null     float64\n",
      " 47   fossil_energy_per_capita                 55 non-null     float64\n",
      " 48   fossil_cons_per_capita                   21 non-null     float64\n",
      " 49   fossil_share_elec                        21 non-null     float64\n",
      " 50   gas_share_elec                           21 non-null     float64\n",
      " 51   gas_cons_change_pct                      54 non-null     float64\n",
      " 52   gas_share_energy                         55 non-null     float64\n",
      " 53   gas_cons_change_twh                      54 non-null     float64\n",
      " 54   gas_consumption                          55 non-null     float64\n",
      " 55   gas_elec_per_capita                      21 non-null     float64\n",
      " 56   gas_energy_per_capita                    55 non-null     float64\n",
      " 57   gas_production                           65 non-null     float64\n",
      " 58   gas_prod_per_capita                      65 non-null     float64\n",
      " 59   hydro_share_elec                         36 non-null     float64\n",
      " 60   hydro_cons_change_pct                    54 non-null     float64\n",
      " 61   hydro_share_energy                       55 non-null     float64\n",
      " 62   hydro_cons_change_twh                    54 non-null     float64\n",
      " 63   hydro_consumption                        55 non-null     float64\n",
      " 64   hydro_elec_per_capita                    36 non-null     float64\n",
      " 65   hydro_energy_per_capita                  55 non-null     float64\n",
      " 66   low_carbon_share_elec                    36 non-null     float64\n",
      " 67   low_carbon_electricity                   36 non-null     float64\n",
      " 68   low_carbon_elec_per_capita               36 non-null     float64\n",
      " 69   low_carbon_cons_change_pct               54 non-null     float64\n",
      " 70   low_carbon_share_energy                  55 non-null     float64\n",
      " 71   low_carbon_cons_change_twh               54 non-null     float64\n",
      " 72   low_carbon_consumption                   55 non-null     float64\n",
      " 73   low_carbon_energy_per_capita             55 non-null     float64\n",
      " 74   nuclear_share_elec                       36 non-null     float64\n",
      " 75   nuclear_cons_change_pct                  0 non-null      float64\n",
      " 76   nuclear_share_energy                     55 non-null     float64\n",
      " 77   nuclear_cons_change_twh                  54 non-null     float64\n",
      " 78   nuclear_consumption                      55 non-null     float64\n",
      " 79   nuclear_elec_per_capita                  36 non-null     float64\n",
      " 80   nuclear_energy_per_capita                55 non-null     float64\n",
      " 81   oil_share_elec                           21 non-null     float64\n",
      " 82   oil_cons_change_pct                      54 non-null     float64\n",
      " 83   oil_share_energy                         55 non-null     float64\n",
      " 84   oil_cons_change_twh                      54 non-null     float64\n",
      " 85   oil_consumption                          55 non-null     float64\n",
      " 86   oil_elec_per_capita                      21 non-null     float64\n",
      " 87   oil_energy_per_capita                    55 non-null     float64\n",
      " 88   oil_production                           65 non-null     float64\n",
      " 89   oil_prod_per_capita                      65 non-null     float64\n",
      " 90   other_renewables_elec_per_capita         36 non-null     float64\n",
      " 91   other_renewables_share_elec              36 non-null     float64\n",
      " 92   other_renewables_cons_change_pct         33 non-null     float64\n",
      " 93   other_renewables_share_energy            55 non-null     float64\n",
      " 94   other_renewables_cons_change_twh         54 non-null     float64\n",
      " 95   other_renewable_consumption              55 non-null     float64\n",
      " 96   other_renewables_energy_per_capita       55 non-null     float64\n",
      " 97   per_capita_electricity                   36 non-null     float64\n",
      " 98   population                               120 non-null    float64\n",
      " 99   primary_energy_consumption               55 non-null     float64\n",
      " 100  renewables_elec_per_capita               36 non-null     float64\n",
      " 101  renewables_share_elec                    36 non-null     float64\n",
      " 102  renewables_cons_change_pct               54 non-null     float64\n",
      " 103  renewables_share_energy                  55 non-null     float64\n",
      " 104  renewables_cons_change_twh               54 non-null     float64\n",
      " 105  renewables_consumption                   55 non-null     float64\n",
      " 106  renewables_energy_per_capita             55 non-null     float64\n",
      " 107  solar_share_elec                         36 non-null     float64\n",
      " 108  solar_cons_change_pct                    26 non-null     float64\n",
      " 109  solar_share_energy                       55 non-null     float64\n",
      " 110  solar_cons_change_twh                    54 non-null     float64\n",
      " 111  solar_consumption                        55 non-null     float64\n",
      " 112  solar_elec_per_capita                    36 non-null     float64\n",
      " 113  solar_energy_per_capita                  55 non-null     float64\n",
      " 114  gdp                                      117 non-null    float64\n",
      " 115  wind_share_elec                          36 non-null     float64\n",
      " 116  wind_cons_change_pct                     24 non-null     float64\n",
      " 117  wind_share_energy                        55 non-null     float64\n",
      " 118  wind_cons_change_twh                     54 non-null     float64\n",
      " 119  wind_consumption                         55 non-null     float64\n",
      " 120  wind_elec_per_capita                     36 non-null     float64\n",
      " 121  wind_energy_per_capita                   55 non-null     float64\n",
      "dtypes: float64(119), int64(1), object(2)\n",
      "memory usage: 116.3+ KB\n"
     ]
    },
    {
     "name": "stderr",
     "output_type": "stream",
     "text": [
      "<ipython-input-9-b2dde480c012>:1: FutureWarning: null_counts is deprecated. Use show_counts instead\n",
      "  austria.info(null_counts=True, verbose=True)\n"
     ]
    }
   ],
   "source": [
    "austria.info(null_counts=True, verbose=True)"
   ]
  },
  {
   "cell_type": "code",
   "execution_count": 23,
   "metadata": {
    "pycharm": {
     "name": "#%%\n"
    }
   },
   "outputs": [
    {
     "data": {
      "text/plain": [
       "<AxesSubplot:>"
      ]
     },
     "execution_count": 23,
     "metadata": {},
     "output_type": "execute_result"
    },
    {
     "data": {
      "image/png": "[encoded data removed]",
      "text/plain": [
       "<Figure size 720x504 with 1 Axes>"
      ]
     },
     "metadata": {
      "needs_background": "light"
     },
     "output_type": "display_data"
    }
   ],
   "source": [
    "plt.rcParams['figure.figsize'] = (10,7)\n",
    "#sns.lineplot(data=austria, x='year', y='gdp')\n",
    "#sns.lineplot(data=austria, x='year', y='gdp')\n",
    "austria.loc[:,['biofuel_share_elec',\"coal_share_energy\"]].plot()"
   ]
  },
  {
   "cell_type": "code",
   "execution_count": 11,
   "metadata": {
    "pycharm": {
     "name": "#%%\n"
    }
   },
   "outputs": [
    {
     "data": {
      "text/plain": [
       "<AxesSubplot:xlabel='year', ylabel='gdp'>"
      ]
     },
     "execution_count": 11,
     "metadata": {},
     "output_type": "execute_result"
    },
    {
     "data": {
      "image/png": "[encoded data removed]",
      "text/plain": [
       "<Figure size 720x504 with 1 Axes>"
      ]
     },
     "metadata": {
      "needs_background": "light"
     },
     "output_type": "display_data"
    }
   ],
   "source": [
    "interesting_countries = energy[energy['iso_code'].isin(('AUT', 'DEU', 'CHN', 'USA'))]\n",
    "sns.lineplot(data=interesting_countries, x='year', y='gdp', hue='iso_code')\n",
    "#sns.lineplot(data=interesting_countries, x='year', y='renewables_share_elec', hue='iso_code')"
   ]
  },
  {
   "cell_type": "code",
   "execution_count": 12,
   "metadata": {
    "pycharm": {
     "name": "#%%\n"
    }
   },
   "outputs": [
    {
     "data": {
      "text/plain": [
       "<AxesSubplot:xlabel='year'>"
      ]
     },
     "execution_count": 12,
     "metadata": {},
     "output_type": "execute_result"
    },
    {
     "data": {
      "image/png": "[encoded data removed]",
      "text/plain": [
       "<Figure size 720x504 with 1 Axes>"
      ]
     },
     "metadata": {
      "needs_background": "light"
     },
     "output_type": "display_data"
    }
   ],
   "source": [
    "austria.plot(x='year', y=['population', 'gdp'])"
   ]
  },
  {
   "cell_type": "code",
   "execution_count": 13,
   "metadata": {
    "pycharm": {
     "name": "#%%\n"
    }
   },
   "outputs": [
    {
     "data": {
      "text/plain": [
       "<AxesSubplot:xlabel='year'>"
      ]
     },
     "execution_count": 13,
     "metadata": {},
     "output_type": "execute_result"
    },
    {
     "data": {
      "image/png": "[encoded data removed]",
      "text/plain": [
       "<Figure size 720x504 with 1 Axes>"
      ]
     },
     "metadata": {
      "needs_background": "light"
     },
     "output_type": "display_data"
    }
   ],
   "source": [
    "china = energy[energy['iso_code'].isin(('CHN', ))]\n",
    "china.plot(x='year', y=['renewables_electricity','fossil_electricity',])"
   ]
  },
  {
   "cell_type": "code",
   "execution_count": 36,
   "metadata": {},
   "outputs": [],
   "source": [
    "energy['iso_code'] = energy.iso_code.apply(prefix_iso)"
   ]
  },
  {
   "cell_type": "code",
   "execution_count": 34,
   "metadata": {},
   "outputs": [],
   "source": [
    "def prefix_iso(country):\n",
    "    return f'ISO: {country}'"
   ]
  },
  {
   "cell_type": "code",
   "execution_count": 42,
   "metadata": {},
   "outputs": [
    {
     "ename": "AttributeError",
     "evalue": "'DataFrame' object has no attribute 'renewables_electricity_share'",
     "output_type": "error",
     "traceback": [
      "\u001b[1;31m---------------------------------------------------------------------------\u001b[0m",
      "\u001b[1;31mAttributeError\u001b[0m                            Traceback (most recent call last)",
      "\u001b[1;32m~\\AppData\\Local\\Temp/ipykernel_14252/1750394884.py\u001b[0m in \u001b[0;36m<module>\u001b[1;34m\u001b[0m\n\u001b[1;32m----> 1\u001b[1;33m \u001b[0menergy\u001b[0m\u001b[1;33m.\u001b[0m\u001b[0mrenewables_electricity_share\u001b[0m\u001b[1;33m.\u001b[0m\u001b[0mplot\u001b[0m\u001b[1;33m.\u001b[0m\u001b[0mhist\u001b[0m\u001b[1;33m(\u001b[0m\u001b[1;33m)\u001b[0m\u001b[1;33m\u001b[0m\u001b[1;33m\u001b[0m\u001b[0m\n\u001b[0m",
      "\u001b[1;32m~\\anaconda3\\envs\\AI\\lib\\site-packages\\pandas\\core\\generic.py\u001b[0m in \u001b[0;36m__getattr__\u001b[1;34m(self, name)\u001b[0m\n\u001b[0;32m   5485\u001b[0m         ):\n\u001b[0;32m   5486\u001b[0m             \u001b[1;32mreturn\u001b[0m \u001b[0mself\u001b[0m\u001b[1;33m[\u001b[0m\u001b[0mname\u001b[0m\u001b[1;33m]\u001b[0m\u001b[1;33m\u001b[0m\u001b[1;33m\u001b[0m\u001b[0m\n\u001b[1;32m-> 5487\u001b[1;33m         \u001b[1;32mreturn\u001b[0m \u001b[0mobject\u001b[0m\u001b[1;33m.\u001b[0m\u001b[0m__getattribute__\u001b[0m\u001b[1;33m(\u001b[0m\u001b[0mself\u001b[0m\u001b[1;33m,\u001b[0m \u001b[0mname\u001b[0m\u001b[1;33m)\u001b[0m\u001b[1;33m\u001b[0m\u001b[1;33m\u001b[0m\u001b[0m\n\u001b[0m\u001b[0;32m   5488\u001b[0m \u001b[1;33m\u001b[0m\u001b[0m\n\u001b[0;32m   5489\u001b[0m     \u001b[1;32mdef\u001b[0m \u001b[0m__setattr__\u001b[0m\u001b[1;33m(\u001b[0m\u001b[0mself\u001b[0m\u001b[1;33m,\u001b[0m \u001b[0mname\u001b[0m\u001b[1;33m:\u001b[0m \u001b[0mstr\u001b[0m\u001b[1;33m,\u001b[0m \u001b[0mvalue\u001b[0m\u001b[1;33m)\u001b[0m \u001b[1;33m->\u001b[0m \u001b[1;32mNone\u001b[0m\u001b[1;33m:\u001b[0m\u001b[1;33m\u001b[0m\u001b[1;33m\u001b[0m\u001b[0m\n",
      "\u001b[1;31mAttributeError\u001b[0m: 'DataFrame' object has no attribute 'renewables_electricity_share'"
     ]
    }
   ],
   "source": [
    "energy.plot.hist()"
   ]
  },
  {
   "cell_type": "markdown",
   "metadata": {
    "pycharm": {
     "name": "#%% md\n"
    }
   },
   "source": [
    "### Missing Data\n",
    "\n",
    "* Daten fehlen oft\n",
    "* entfernen(Zeilen oder Spalten) oder ergänzen"
   ]
  },
  {
   "cell_type": "code",
   "execution_count": 14,
   "metadata": {
    "pycharm": {
     "name": "#%%\n"
    }
   },
   "outputs": [
    {
     "data": {
      "text/html": [
       "<div>\n",
       "<style scoped>\n",
       "    .dataframe tbody tr th:only-of-type {\n",
       "        vertical-align: middle;\n",
       "    }\n",
       "\n",
       "    .dataframe tbody tr th {\n",
       "        vertical-align: top;\n",
       "    }\n",
       "\n",
       "    .dataframe thead th {\n",
       "        text-align: right;\n",
       "    }\n",
       "</style>\n",
       "<table border=\"1\" class=\"dataframe\">\n",
       "  <thead>\n",
       "    <tr style=\"text-align: right;\">\n",
       "      <th></th>\n",
       "      <th>a</th>\n",
       "      <th>b</th>\n",
       "      <th>c</th>\n",
       "    </tr>\n",
       "  </thead>\n",
       "  <tbody>\n",
       "    <tr>\n",
       "      <th>0</th>\n",
       "      <td>1.0</td>\n",
       "      <td>3.0</td>\n",
       "      <td>1</td>\n",
       "    </tr>\n",
       "    <tr>\n",
       "      <th>1</th>\n",
       "      <td>2.0</td>\n",
       "      <td>NaN</td>\n",
       "      <td>2</td>\n",
       "    </tr>\n",
       "    <tr>\n",
       "      <th>2</th>\n",
       "      <td>NaN</td>\n",
       "      <td>NaN</td>\n",
       "      <td>3</td>\n",
       "    </tr>\n",
       "  </tbody>\n",
       "</table>\n",
       "</div>"
      ],
      "text/plain": [
       "     a    b  c\n",
       "0  1.0  3.0  1\n",
       "1  2.0  NaN  2\n",
       "2  NaN  NaN  3"
      ]
     },
     "execution_count": 14,
     "metadata": {},
     "output_type": "execute_result"
    }
   ],
   "source": [
    "data = pd.DataFrame({'a': [1, 2, np.nan], 'b': [3, np.nan, np.nan\n",
    "], 'c': [1,2,3]})\n",
    "data"
   ]
  },
  {
   "cell_type": "code",
   "execution_count": 15,
   "metadata": {
    "pycharm": {
     "name": "#%%\n"
    }
   },
   "outputs": [
    {
     "data": {
      "text/html": [
       "<div>\n",
       "<style scoped>\n",
       "    .dataframe tbody tr th:only-of-type {\n",
       "        vertical-align: middle;\n",
       "    }\n",
       "\n",
       "    .dataframe tbody tr th {\n",
       "        vertical-align: top;\n",
       "    }\n",
       "\n",
       "    .dataframe thead th {\n",
       "        text-align: right;\n",
       "    }\n",
       "</style>\n",
       "<table border=\"1\" class=\"dataframe\">\n",
       "  <thead>\n",
       "    <tr style=\"text-align: right;\">\n",
       "      <th></th>\n",
       "      <th>a</th>\n",
       "      <th>b</th>\n",
       "      <th>c</th>\n",
       "    </tr>\n",
       "  </thead>\n",
       "  <tbody>\n",
       "    <tr>\n",
       "      <th>0</th>\n",
       "      <td>1.0</td>\n",
       "      <td>3.0</td>\n",
       "      <td>1</td>\n",
       "    </tr>\n",
       "  </tbody>\n",
       "</table>\n",
       "</div>"
      ],
      "text/plain": [
       "     a    b  c\n",
       "0  1.0  3.0  1"
      ]
     },
     "execution_count": 15,
     "metadata": {},
     "output_type": "execute_result"
    }
   ],
   "source": [
    "data.dropna(axis=0, inplace=False, thresh=None)"
   ]
  },
  {
   "cell_type": "markdown",
   "metadata": {
    "pycharm": {
     "name": "#%% md\n"
    }
   },
   "source": [
    "* `axis`: 0 - zeilenweise, 1 - spaltenweise\n",
    "* `inplace`: Funktion returnt `None` und modifiziert übergebenes Objekt\n",
    "* `thresh`old: Anzahl nicht-`NaN` Werte, die vorhanden sein müssen"
   ]
  },
  {
   "cell_type": "code",
   "execution_count": 16,
   "metadata": {
    "pycharm": {
     "name": "#%%\n"
    },
    "scrolled": true
   },
   "outputs": [
    {
     "data": {
      "text/plain": [
       "1039    NaN\n",
       "1040    NaN\n",
       "1041    NaN\n",
       "1042    NaN\n",
       "1043    NaN\n",
       "       ... \n",
       "1155    0.0\n",
       "1156    0.0\n",
       "1157    0.0\n",
       "1158    0.0\n",
       "1159    0.0\n",
       "Name: nuclear_share_elec, Length: 121, dtype: float64"
      ]
     },
     "execution_count": 16,
     "metadata": {},
     "output_type": "execute_result"
    }
   ],
   "source": [
    "austria_nuclear = austria['nuclear_share_elec']\n",
    "austria_nuclear"
   ]
  },
  {
   "cell_type": "code",
   "execution_count": 17,
   "metadata": {
    "pycharm": {
     "name": "#%%\n"
    }
   },
   "outputs": [
    {
     "data": {
      "text/html": [
       "<div>\n",
       "<style scoped>\n",
       "    .dataframe tbody tr th:only-of-type {\n",
       "        vertical-align: middle;\n",
       "    }\n",
       "\n",
       "    .dataframe tbody tr th {\n",
       "        vertical-align: top;\n",
       "    }\n",
       "\n",
       "    .dataframe thead th {\n",
       "        text-align: right;\n",
       "    }\n",
       "</style>\n",
       "<table border=\"1\" class=\"dataframe\">\n",
       "  <thead>\n",
       "    <tr style=\"text-align: right;\">\n",
       "      <th></th>\n",
       "      <th>a</th>\n",
       "      <th>b</th>\n",
       "      <th>c</th>\n",
       "    </tr>\n",
       "  </thead>\n",
       "  <tbody>\n",
       "    <tr>\n",
       "      <th>0</th>\n",
       "      <td>1.0</td>\n",
       "      <td>3.0</td>\n",
       "      <td>1</td>\n",
       "    </tr>\n",
       "    <tr>\n",
       "      <th>1</th>\n",
       "      <td>2.0</td>\n",
       "      <td>NaN</td>\n",
       "      <td>2</td>\n",
       "    </tr>\n",
       "    <tr>\n",
       "      <th>2</th>\n",
       "      <td>1.5</td>\n",
       "      <td>NaN</td>\n",
       "      <td>3</td>\n",
       "    </tr>\n",
       "  </tbody>\n",
       "</table>\n",
       "</div>"
      ],
      "text/plain": [
       "     a    b  c\n",
       "0  1.0  3.0  1\n",
       "1  2.0  NaN  2\n",
       "2  1.5  NaN  3"
      ]
     },
     "execution_count": 17,
     "metadata": {},
     "output_type": "execute_result"
    }
   ],
   "source": [
    "#data = data.fillna(value='former NaN')\n",
    "data['a'].fillna(value=data['a'].mean(), inplace=True)\n",
    "data"
   ]
  },
  {
   "cell_type": "code",
   "execution_count": 18,
   "metadata": {
    "pycharm": {
     "name": "#%%\n"
    }
   },
   "outputs": [
    {
     "data": {
      "text/html": [
       "<div>\n",
       "<style scoped>\n",
       "    .dataframe tbody tr th:only-of-type {\n",
       "        vertical-align: middle;\n",
       "    }\n",
       "\n",
       "    .dataframe tbody tr th {\n",
       "        vertical-align: top;\n",
       "    }\n",
       "\n",
       "    .dataframe thead th {\n",
       "        text-align: right;\n",
       "    }\n",
       "</style>\n",
       "<table border=\"1\" class=\"dataframe\">\n",
       "  <thead>\n",
       "    <tr style=\"text-align: right;\">\n",
       "      <th></th>\n",
       "      <th>Category</th>\n",
       "      <th>Value</th>\n",
       "    </tr>\n",
       "  </thead>\n",
       "  <tbody>\n",
       "    <tr>\n",
       "      <th>0</th>\n",
       "      <td>A</td>\n",
       "      <td>20.0</td>\n",
       "    </tr>\n",
       "    <tr>\n",
       "      <th>1</th>\n",
       "      <td>B</td>\n",
       "      <td>NaN</td>\n",
       "    </tr>\n",
       "    <tr>\n",
       "      <th>2</th>\n",
       "      <td>C</td>\n",
       "      <td>40.0</td>\n",
       "    </tr>\n",
       "    <tr>\n",
       "      <th>3</th>\n",
       "      <td>A</td>\n",
       "      <td>NaN</td>\n",
       "    </tr>\n",
       "    <tr>\n",
       "      <th>4</th>\n",
       "      <td>B</td>\n",
       "      <td>10.0</td>\n",
       "    </tr>\n",
       "    <tr>\n",
       "      <th>5</th>\n",
       "      <td>C</td>\n",
       "      <td>20.0</td>\n",
       "    </tr>\n",
       "    <tr>\n",
       "      <th>6</th>\n",
       "      <td>A</td>\n",
       "      <td>30.0</td>\n",
       "    </tr>\n",
       "    <tr>\n",
       "      <th>7</th>\n",
       "      <td>B</td>\n",
       "      <td>NaN</td>\n",
       "    </tr>\n",
       "    <tr>\n",
       "      <th>8</th>\n",
       "      <td>C</td>\n",
       "      <td>50.0</td>\n",
       "    </tr>\n",
       "  </tbody>\n",
       "</table>\n",
       "</div>"
      ],
      "text/plain": [
       "  Category  Value\n",
       "0        A   20.0\n",
       "1        B    NaN\n",
       "2        C   40.0\n",
       "3        A    NaN\n",
       "4        B   10.0\n",
       "5        C   20.0\n",
       "6        A   30.0\n",
       "7        B    NaN\n",
       "8        C   50.0"
      ]
     },
     "execution_count": 18,
     "metadata": {},
     "output_type": "execute_result"
    }
   ],
   "source": [
    "data = pd.DataFrame({'Category':['A','B','C']*3,\n",
    "                     'Value':[20, np.nan, 40, np.nan, 10, 20, 30, np.nan, 50]})\n",
    "data"
   ]
  },
  {
   "cell_type": "code",
   "execution_count": 19,
   "metadata": {
    "pycharm": {
     "name": "#%%\n"
    }
   },
   "outputs": [
    {
     "name": "stdout",
     "output_type": "stream",
     "text": [
      "Category\n",
      "A    25.000000\n",
      "B    10.000000\n",
      "C    36.666667\n",
      "Name: Value, dtype: float64\n"
     ]
    },
    {
     "data": {
      "text/html": [
       "<div>\n",
       "<style scoped>\n",
       "    .dataframe tbody tr th:only-of-type {\n",
       "        vertical-align: middle;\n",
       "    }\n",
       "\n",
       "    .dataframe tbody tr th {\n",
       "        vertical-align: top;\n",
       "    }\n",
       "\n",
       "    .dataframe thead th {\n",
       "        text-align: right;\n",
       "    }\n",
       "</style>\n",
       "<table border=\"1\" class=\"dataframe\">\n",
       "  <thead>\n",
       "    <tr style=\"text-align: right;\">\n",
       "      <th></th>\n",
       "      <th>Category</th>\n",
       "      <th>Value</th>\n",
       "    </tr>\n",
       "  </thead>\n",
       "  <tbody>\n",
       "    <tr>\n",
       "      <th>0</th>\n",
       "      <td>A</td>\n",
       "      <td>20.0</td>\n",
       "    </tr>\n",
       "    <tr>\n",
       "      <th>3</th>\n",
       "      <td>A</td>\n",
       "      <td>25.0</td>\n",
       "    </tr>\n",
       "    <tr>\n",
       "      <th>6</th>\n",
       "      <td>A</td>\n",
       "      <td>30.0</td>\n",
       "    </tr>\n",
       "    <tr>\n",
       "      <th>1</th>\n",
       "      <td>B</td>\n",
       "      <td>10.0</td>\n",
       "    </tr>\n",
       "    <tr>\n",
       "      <th>4</th>\n",
       "      <td>B</td>\n",
       "      <td>10.0</td>\n",
       "    </tr>\n",
       "    <tr>\n",
       "      <th>7</th>\n",
       "      <td>B</td>\n",
       "      <td>10.0</td>\n",
       "    </tr>\n",
       "    <tr>\n",
       "      <th>2</th>\n",
       "      <td>C</td>\n",
       "      <td>40.0</td>\n",
       "    </tr>\n",
       "    <tr>\n",
       "      <th>5</th>\n",
       "      <td>C</td>\n",
       "      <td>20.0</td>\n",
       "    </tr>\n",
       "    <tr>\n",
       "      <th>8</th>\n",
       "      <td>C</td>\n",
       "      <td>50.0</td>\n",
       "    </tr>\n",
       "  </tbody>\n",
       "</table>\n",
       "</div>"
      ],
      "text/plain": [
       "  Category  Value\n",
       "0        A   20.0\n",
       "3        A   25.0\n",
       "6        A   30.0\n",
       "1        B   10.0\n",
       "4        B   10.0\n",
       "7        B   10.0\n",
       "2        C   40.0\n",
       "5        C   20.0\n",
       "8        C   50.0"
      ]
     },
     "execution_count": 19,
     "metadata": {},
     "output_type": "execute_result"
    }
   ],
   "source": [
    "print(data.groupby('Category')['Value'].mean())\n",
    "data['Value'] = data.groupby('Category')['Value'].apply(lambda x: x.fillna(x.mean()))\n",
    "data.sort_values('Category')"
   ]
  },
  {
   "cell_type": "markdown",
   "metadata": {
    "pycharm": {
     "name": "#%% md\n"
    }
   },
   "source": [
    "### Hinzufügen/Entfernen von Zeilen/Spalten"
   ]
  },
  {
   "cell_type": "code",
   "execution_count": 21,
   "metadata": {
    "pycharm": {
     "name": "#%%\n"
    }
   },
   "outputs": [
    {
     "name": "stdout",
     "output_type": "stream",
     "text": [
      "       Room    KV  Size\n",
      "4AHIF  N312  SCRE    23\n",
      "4BHIF  N313  WISS    22\n",
      "5AHIF  N304  NEUL    19\n",
      "5BHIF  N317  BUCH    25\n"
     ]
    },
    {
     "data": {
      "text/html": [
       "<div>\n",
       "<style scoped>\n",
       "    .dataframe tbody tr th:only-of-type {\n",
       "        vertical-align: middle;\n",
       "    }\n",
       "\n",
       "    .dataframe tbody tr th {\n",
       "        vertical-align: top;\n",
       "    }\n",
       "\n",
       "    .dataframe thead th {\n",
       "        text-align: right;\n",
       "    }\n",
       "</style>\n",
       "<table border=\"1\" class=\"dataframe\">\n",
       "  <thead>\n",
       "    <tr style=\"text-align: right;\">\n",
       "      <th></th>\n",
       "      <th>Room</th>\n",
       "      <th>KV</th>\n",
       "    </tr>\n",
       "  </thead>\n",
       "  <tbody>\n",
       "    <tr>\n",
       "      <th>4AHIF</th>\n",
       "      <td>N312</td>\n",
       "      <td>SCRE</td>\n",
       "    </tr>\n",
       "    <tr>\n",
       "      <th>4BHIF</th>\n",
       "      <td>N313</td>\n",
       "      <td>WISS</td>\n",
       "    </tr>\n",
       "    <tr>\n",
       "      <th>5AHIF</th>\n",
       "      <td>N304</td>\n",
       "      <td>NEUL</td>\n",
       "    </tr>\n",
       "    <tr>\n",
       "      <th>5BHIF</th>\n",
       "      <td>N317</td>\n",
       "      <td>BUCH</td>\n",
       "    </tr>\n",
       "  </tbody>\n",
       "</table>\n",
       "</div>"
      ],
      "text/plain": [
       "       Room    KV\n",
       "4AHIF  N312  SCRE\n",
       "4BHIF  N313  WISS\n",
       "5AHIF  N304  NEUL\n",
       "5BHIF  N317  BUCH"
      ]
     },
     "execution_count": 21,
     "metadata": {},
     "output_type": "execute_result"
    }
   ],
   "source": [
    "print(dataframe)\n",
    "if_rooms_with_kv = dataframe.drop(columns='Size')\n",
    "if_rooms_with_kv"
   ]
  },
  {
   "cell_type": "code",
   "execution_count": 24,
   "metadata": {
    "pycharm": {
     "name": "#%%\n"
    }
   },
   "outputs": [],
   "source": [
    "series_has_books = pd.Series([True, False, False, True], index=['4AHIF', '4BHIF', '5AHIF', '5BHIF'], name='Has books')\n",
    "series_has_books\n",
    "IF = pd.concat([dataframe, series_has_books], axis=1)"
   ]
  },
  {
   "cell_type": "code",
   "execution_count": 25,
   "metadata": {},
   "outputs": [
    {
     "data": {
      "text/html": [
       "<div>\n",
       "<style scoped>\n",
       "    .dataframe tbody tr th:only-of-type {\n",
       "        vertical-align: middle;\n",
       "    }\n",
       "\n",
       "    .dataframe tbody tr th {\n",
       "        vertical-align: top;\n",
       "    }\n",
       "\n",
       "    .dataframe thead th {\n",
       "        text-align: right;\n",
       "    }\n",
       "</style>\n",
       "<table border=\"1\" class=\"dataframe\">\n",
       "  <thead>\n",
       "    <tr style=\"text-align: right;\">\n",
       "      <th></th>\n",
       "      <th>Room</th>\n",
       "      <th>KV</th>\n",
       "      <th>Size</th>\n",
       "      <th>Has books</th>\n",
       "    </tr>\n",
       "  </thead>\n",
       "  <tbody>\n",
       "    <tr>\n",
       "      <th>4AHIF</th>\n",
       "      <td>N312</td>\n",
       "      <td>SCRE</td>\n",
       "      <td>23</td>\n",
       "      <td>True</td>\n",
       "    </tr>\n",
       "    <tr>\n",
       "      <th>4BHIF</th>\n",
       "      <td>N313</td>\n",
       "      <td>WISS</td>\n",
       "      <td>22</td>\n",
       "      <td>False</td>\n",
       "    </tr>\n",
       "    <tr>\n",
       "      <th>5AHIF</th>\n",
       "      <td>N304</td>\n",
       "      <td>NEUL</td>\n",
       "      <td>19</td>\n",
       "      <td>False</td>\n",
       "    </tr>\n",
       "    <tr>\n",
       "      <th>5BHIF</th>\n",
       "      <td>N317</td>\n",
       "      <td>BUCH</td>\n",
       "      <td>25</td>\n",
       "      <td>True</td>\n",
       "    </tr>\n",
       "  </tbody>\n",
       "</table>\n",
       "</div>"
      ],
      "text/plain": [
       "       Room    KV  Size  Has books\n",
       "4AHIF  N312  SCRE    23       True\n",
       "4BHIF  N313  WISS    22      False\n",
       "5AHIF  N304  NEUL    19      False\n",
       "5BHIF  N317  BUCH    25       True"
      ]
     },
     "execution_count": 25,
     "metadata": {},
     "output_type": "execute_result"
    }
   ],
   "source": [
    "IF"
   ]
  },
  {
   "cell_type": "markdown",
   "metadata": {
    "pycharm": {
     "name": "#%% md\n"
    }
   },
   "source": [
    "## One Hot Encoding"
   ]
  },
  {
   "cell_type": "code",
   "execution_count": 35,
   "metadata": {},
   "outputs": [
    {
     "data": {
      "text/html": [
       "<div>\n",
       "<style scoped>\n",
       "    .dataframe tbody tr th:only-of-type {\n",
       "        vertical-align: middle;\n",
       "    }\n",
       "\n",
       "    .dataframe tbody tr th {\n",
       "        vertical-align: top;\n",
       "    }\n",
       "\n",
       "    .dataframe thead th {\n",
       "        text-align: right;\n",
       "    }\n",
       "</style>\n",
       "<table border=\"1\" class=\"dataframe\">\n",
       "  <thead>\n",
       "    <tr style=\"text-align: right;\">\n",
       "      <th></th>\n",
       "      <th>Size</th>\n",
       "      <th>Has books</th>\n",
       "      <th>Room_N312</th>\n",
       "      <th>Room_N313</th>\n",
       "      <th>Room_N317</th>\n",
       "      <th>KV_NEUL</th>\n",
       "      <th>KV_SCRE</th>\n",
       "      <th>KV_WISS</th>\n",
       "    </tr>\n",
       "  </thead>\n",
       "  <tbody>\n",
       "    <tr>\n",
       "      <th>4AHIF</th>\n",
       "      <td>23</td>\n",
       "      <td>True</td>\n",
       "      <td>1</td>\n",
       "      <td>0</td>\n",
       "      <td>0</td>\n",
       "      <td>0</td>\n",
       "      <td>1</td>\n",
       "      <td>0</td>\n",
       "    </tr>\n",
       "    <tr>\n",
       "      <th>4BHIF</th>\n",
       "      <td>22</td>\n",
       "      <td>False</td>\n",
       "      <td>0</td>\n",
       "      <td>1</td>\n",
       "      <td>0</td>\n",
       "      <td>0</td>\n",
       "      <td>0</td>\n",
       "      <td>1</td>\n",
       "    </tr>\n",
       "    <tr>\n",
       "      <th>5AHIF</th>\n",
       "      <td>19</td>\n",
       "      <td>False</td>\n",
       "      <td>0</td>\n",
       "      <td>0</td>\n",
       "      <td>0</td>\n",
       "      <td>1</td>\n",
       "      <td>0</td>\n",
       "      <td>0</td>\n",
       "    </tr>\n",
       "    <tr>\n",
       "      <th>5BHIF</th>\n",
       "      <td>25</td>\n",
       "      <td>True</td>\n",
       "      <td>0</td>\n",
       "      <td>0</td>\n",
       "      <td>1</td>\n",
       "      <td>0</td>\n",
       "      <td>0</td>\n",
       "      <td>0</td>\n",
       "    </tr>\n",
       "  </tbody>\n",
       "</table>\n",
       "</div>"
      ],
      "text/plain": [
       "       Size  Has books  Room_N312  Room_N313  Room_N317  KV_NEUL  KV_SCRE  \\\n",
       "4AHIF    23       True          1          0          0        0        1   \n",
       "4BHIF    22      False          0          1          0        0        0   \n",
       "5AHIF    19      False          0          0          0        1        0   \n",
       "5BHIF    25       True          0          0          1        0        0   \n",
       "\n",
       "       KV_WISS  \n",
       "4AHIF        0  \n",
       "4BHIF        1  \n",
       "5AHIF        0  \n",
       "5BHIF        0  "
      ]
     },
     "execution_count": 35,
     "metadata": {},
     "output_type": "execute_result"
    }
   ],
   "source": [
    "pd.get_dummies(IF, columns=['Room', 'KV'], drop_first=True)"
   ]
  }
 ],
 "metadata": {
  "kernelspec": {
   "display_name": "Python 3 (ipykernel)",
   "language": "python",
   "name": "python3"
  },
  "language_info": {
   "codemirror_mode": {
    "name": "ipython",
    "version": 3
   },
   "file_extension": ".py",
   "mimetype": "text/x-python",
   "name": "python",
   "nbconvert_exporter": "python",
   "pygments_lexer": "ipython3",
   "version": "3.8.12"
  }
 },
 "nbformat": 4,
 "nbformat_minor": 1
}
